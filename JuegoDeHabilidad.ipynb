{
  "nbformat": 4,
  "nbformat_minor": 0,
  "metadata": {
    "colab": {
      "name": "JuegoDeHabilidad.ipynb",
      "provenance": [],
      "collapsed_sections": [],
      "authorship_tag": "ABX9TyOGad9Geue5az0dEneInHTX",
      "include_colab_link": true
    },
    "kernelspec": {
      "name": "python3",
      "display_name": "Python 3"
    }
  },
  "cells": [
    {
      "cell_type": "markdown",
      "metadata": {
        "id": "view-in-github",
        "colab_type": "text"
      },
      "source": [
        "<a href=\"https://colab.research.google.com/github/FelipeFranco97/JuegoDeHabilidad/blob/master/JuegoDeHabilidad.ipynb\" target=\"_parent\"><img src=\"https://colab.research.google.com/assets/colab-badge.svg\" alt=\"Open In Colab\"/></a>"
      ]
    },
    {
      "cell_type": "code",
      "metadata": {
        "id": "C7F78BVMwhlN",
        "colab_type": "code",
        "colab": {
          "base_uri": "https://localhost:8080/",
          "height": 537
        },
        "outputId": "66c5ffcc-42bf-4bfe-e903-0b5491ed2c9e"
      },
      "source": [
        "import numpy as np\n",
        "import pandas as pd\n",
        "import matplotlib.pyplot as plt\n",
        "import statistics\n",
        "%matplotlib inline\n",
        "\n",
        "lista_resultados = ['5', '15', '30', '50', '100']\n",
        "\n",
        "resultado = np.random.choice(lista_resultados, size=(100), p=[0.35, 0.25, 0.20, 0.15, 0.05])\n",
        "\n",
        "media=pd.to_numeric(resultado, errors='coerce').mean()\n",
        "\n",
        "varianza = pd.to_numeric(resultado, errors='coerce').var()\n",
        "\n",
        "print(resultado)\n",
        "print(\"\\n\")\n",
        "print(\"La media es: \",media  ,\"\\n\")\n",
        "print(\"La varianza es: \",varianza, \" (La varianza dada por Python es la poblacional)\" , \"\\n\")\n",
        "plt.hist(resultado)\n",
        "\n"
      ],
      "execution_count": 37,
      "outputs": [
        {
          "output_type": "stream",
          "text": [
            "['30' '15' '30' '5' '5' '15' '5' '15' '30' '5' '5' '15' '30' '30' '5' '5'\n",
            " '5' '15' '100' '50' '30' '15' '30' '5' '5' '5' '50' '5' '15' '5' '30'\n",
            " '15' '30' '15' '50' '30' '15' '15' '5' '50' '5' '30' '5' '30' '5' '5'\n",
            " '15' '5' '30' '5' '15' '5' '50' '5' '50' '5' '5' '15' '15' '15' '15' '50'\n",
            " '15' '5' '50' '50' '50' '30' '5' '30' '30' '30' '5' '100' '30' '50' '5'\n",
            " '50' '5' '100' '30' '15' '15' '5' '5' '5' '100' '15' '5' '5' '5' '50'\n",
            " '50' '15' '5' '5' '15' '5' '100' '100']\n",
            "\n",
            "\n",
            "La media es:  24.05 \n",
            "\n",
            "La varianza es:  603.8474999999999  (La varianza dada por Python es la poblacional) \n",
            "\n"
          ],
          "name": "stdout"
        },
        {
          "output_type": "execute_result",
          "data": {
            "text/plain": [
              "(array([19.,  0., 23.,  0.,  0., 38.,  0.,  6.,  0., 14.]),\n",
              " array([0. , 0.4, 0.8, 1.2, 1.6, 2. , 2.4, 2.8, 3.2, 3.6, 4. ]),\n",
              " <a list of 10 Patch objects>)"
            ]
          },
          "metadata": {
            "tags": []
          },
          "execution_count": 37
        },
        {
          "output_type": "display_data",
          "data": {
            "image/png": "[encoded data removed]",
            "text/plain": [
              "<Figure size 432x288 with 1 Axes>"
            ]
          },
          "metadata": {
            "tags": []
          }
        }
      ]
    },
    {
      "cell_type": "code",
      "metadata": {
        "id": "IF4ijMGPwprm",
        "colab_type": "code",
        "colab": {}
      },
      "source": [
        ""
      ],
      "execution_count": 0,
      "outputs": []
    }
  ]
}